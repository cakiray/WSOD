{
 "cells": [
  {
   "cell_type": "code",
   "execution_count": 4,
   "metadata": {},
   "outputs": [
    {
     "data": {
      "text/plain": [
       "'/usr/bin/python3'"
      ]
     },
     "execution_count": 4,
     "metadata": {},
     "output_type": "execute_result"
    }
   ],
   "source": [
    "import sys; sys.executable"
   ]
  },
  {
   "cell_type": "code",
   "execution_count": 1,
   "metadata": {},
   "outputs": [],
   "source": [
    "%load_ext autoreload\n",
    "%autoreload 2"
   ]
  },
  {
   "cell_type": "code",
   "execution_count": 2,
   "metadata": {
    "scrolled": true
   },
   "outputs": [
    {
     "name": "stderr",
     "output_type": "stream",
     "text": [
      "/usr/local/lib/python3.8/dist-packages/MinkowskiEngine-0.5.3-py3.8-linux-x86_64.egg/MinkowskiEngine/__init__.py:221: UserWarning: The MinkowskiEngine was compiled with CPU_ONLY flag. If you want to compile with CUDA support, make sure `torch.cuda.is_available()` is True when you install MinkowskiEngine.\n",
      "  warnings.warn(\n"
     ]
    }
   ],
   "source": [
    "import torch\n",
    "import numpy as np\n",
    "import MinkowskiEngine as ME \n",
    "from classresponsegeneration.kitti_dataset import KITTI_Dataset\n",
    "from classresponsegeneration.models.BasicCNN_2d import BasicCNN\n",
    "from classresponsegeneration.models.SPCNN_Minkowski import Basic_SPCNN, UNet"
   ]
  },
  {
   "cell_type": "code",
   "execution_count": 3,
   "metadata": {},
   "outputs": [],
   "source": [
    "def train_SPCNN(device):\n",
    "    params = {'batch_size': 64,\n",
    "              'shuffle': True}\n",
    "\n",
    "    train_set = KITTI_Dataset( mode='training', use_val=True )\n",
    "    training_generator = torch.utils.data.DataLoader(train_set, **params)\n",
    "\n",
    "    test_set = KITTI_Dataset(mode='testing', use_val=True)\n",
    "    test_generator = torch.utils.data.DataLoader(test_set, **params)\n",
    "\n",
    "    #model = Basic_SPCNN( in_feat=3, out_feat=1, D=2)\n",
    "    model = UNet( in_feat=1, out_feat=1, D=2)\n",
    "    #print(model)\n",
    "\n",
    "    optimizer = torch.optim.SGD(model.parameters(), lr=0.2)\n",
    "    loss_func = torch.nn.MSELoss()\n",
    "\n",
    "    for epoch in range(5):\n",
    "        print('epoch :',epoch)\n",
    "        running_loss = 0.0\n",
    "\n",
    "        for epoch in range(5):\n",
    "        running_loss = 0.0\n",
    "        print(\"epoch :\", epoch)\n",
    "        for i, data in enumerate(train_set):\n",
    "            \n",
    "            pc = data['pc']  # n x 3 (x,y,rel)\n",
    "            crm_pc = data['crm_pc'] # n x 1\n",
    "            \n",
    "            # clear the gradient\n",
    "            optimizer.zero_grad()\n",
    "            \n",
    "            input = ME.SparseTensor(pc[:,0:2], coordinates=pc[:,0:2].int())\n",
    "            crm_input = ME.SparseTensor(crm_pc, coordinates=pc[:,0:2].int())\n",
    "            \n",
    "            #feed the input and acquire the output from network\n",
    "            outputs = model(input)\n",
    "            \"\"\"\"\n",
    "            print(\"out:\",outputs.shape)\n",
    "            print(\"pc:\",pc[:,0:2].int().shape)\n",
    "            print(\"crm:\",crm_input.features.shape)\n",
    "            \"\"\"\n",
    "            #calculating the predicted and the expected loss\n",
    "           \n",
    "            loss = loss_func(outputs.features, crm_input.features)\n",
    "\n",
    "            #compute the gradient\n",
    "            loss.backward()\n",
    "\n",
    "            #update the parameters\n",
    "            optimizer.step()\n",
    "\n",
    "            # print statistics\n",
    "            running_loss += loss.item()\n",
    "            if i % 100 == 0:\n",
    "                print('epoch: %d, data: %5d] loss: %.3f' %\n",
    "                      (epoch + 1, i + 1, running_loss ))\n",
    "                running_loss = 0.0\n"
   ]
  },
  {
   "cell_type": "code",
   "execution_count": null,
   "metadata": {},
   "outputs": [],
   "source": [
    "if __name__ == '__main__':\n",
    "    device = 'cuda:0' if torch.cuda.is_available() else 'cpu'\n",
    "    #train_basicCNN()\n",
    "    train_SPCNN(device)"
   ]
  },
  {
   "cell_type": "code",
   "execution_count": null,
   "metadata": {},
   "outputs": [],
   "source": []
  }
 ],
 "metadata": {
  "colab": {
   "name": "main.ipynb",
   "provenance": []
  },
  "kernelspec": {
   "display_name": "Python 3",
   "language": "python",
   "name": "python3"
  },
  "language_info": {
   "codemirror_mode": {
    "name": "ipython",
    "version": 3
   },
   "file_extension": ".py",
   "mimetype": "text/x-python",
   "name": "python",
   "nbconvert_exporter": "python",
   "pygments_lexer": "ipython3",
   "version": "3.8.5"
  }
 },
 "nbformat": 4,
 "nbformat_minor": 1
}
